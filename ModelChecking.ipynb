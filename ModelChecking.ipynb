{
 "cells": [
  {
   "cell_type": "code",
   "execution_count": 5,
   "id": "93dde9c3",
   "metadata": {},
   "outputs": [],
   "source": [
    "from exerciseClass import NN_model"
   ]
  },
  {
   "cell_type": "code",
   "execution_count": 6,
   "id": "12daafb7",
   "metadata": {},
   "outputs": [],
   "source": [
    "model  = NN_model()"
   ]
  },
  {
   "cell_type": "code",
   "execution_count": 7,
   "id": "fb9767e9",
   "metadata": {},
   "outputs": [],
   "source": [
    "a = 1 # seanson in which the analysis was performedf \n",
    "b = 0.56 # age at the time of the analysis \n",
    "c = 1 # childish disease \n",
    "d = 1 # accident or serious trauma \n",
    "e = 1 # surgical intrvention \n",
    "f = 0 # high fevers in the last year \n",
    "g = 1 # frequency of alcohol consumption\n",
    "h = -1 # smoking habit \n",
    "i = 0.63 # number of hours spent sitting per day "
   ]
  },
  {
   "cell_type": "code",
   "execution_count": 8,
   "id": "b3324f07",
   "metadata": {},
   "outputs": [
    {
     "ename": "AttributeError",
     "evalue": "'NN_model' object has no attribute 'predict'",
     "output_type": "error",
     "traceback": [
      "\u001b[1;31m---------------------------------------------------------------------------\u001b[0m",
      "\u001b[1;31mAttributeError\u001b[0m                            Traceback (most recent call last)",
      "Cell \u001b[1;32mIn[8], line 1\u001b[0m\n\u001b[1;32m----> 1\u001b[0m pred \u001b[38;5;241m=\u001b[39m model\u001b[38;5;241m.\u001b[39mpredict(season\u001b[38;5;241m=\u001b[39ma , age\u001b[38;5;241m=\u001b[39m b, childish\u001b[38;5;241m=\u001b[39m c, trauma \u001b[38;5;241m=\u001b[39m d , surgical\u001b[38;5;241m=\u001b[39me ,fevers\u001b[38;5;241m=\u001b[39m f,alcohol\u001b[38;5;241m=\u001b[39mg,smoking\u001b[38;5;241m=\u001b[39mh, sitting\u001b[38;5;241m=\u001b[39m i)\n",
      "\u001b[1;31mAttributeError\u001b[0m: 'NN_model' object has no attribute 'predict'"
     ]
    }
   ],
   "source": [
    "pred = model.predict(season=a , age= b, childish= c, trauma = d , surgical=e ,fevers= f,alcohol=g,smoking=h, sitting= i)"
   ]
  },
  {
   "cell_type": "code",
   "execution_count": null,
   "id": "5e74bd7e",
   "metadata": {},
   "outputs": [],
   "source": []
  }
 ],
 "metadata": {
  "kernelspec": {
   "display_name": "base",
   "language": "python",
   "name": "python3"
  },
  "language_info": {
   "codemirror_mode": {
    "name": "ipython",
    "version": 3
   },
   "file_extension": ".py",
   "mimetype": "text/x-python",
   "name": "python",
   "nbconvert_exporter": "python",
   "pygments_lexer": "ipython3",
   "version": "3.12.7"
  }
 },
 "nbformat": 4,
 "nbformat_minor": 5
}
