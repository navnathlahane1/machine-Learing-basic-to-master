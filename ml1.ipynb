{
 "cells": [
  {
   "cell_type": "code",
   "execution_count": null,
   "metadata": {},
   "outputs": [],
   "source": [
    "import pandas as pd \n",
    "import numpy as np \n",
    "import matplotlib.pyplot as plt\n",
    "import seaborn as sns\n"
   ]
  },
  {
   "cell_type": "code",
   "execution_count": 1,
   "metadata": {},
   "outputs": [
    {
     "ename": "NameError",
     "evalue": "name 'pd' is not defined",
     "output_type": "error",
     "traceback": [
      "\u001b[1;31m---------------------------------------------------------------------------\u001b[0m",
      "\u001b[1;31mNameError\u001b[0m                                 Traceback (most recent call last)",
      "Cell \u001b[1;32mIn[1], line 1\u001b[0m\n\u001b[1;32m----> 1\u001b[0m df \u001b[38;5;241m=\u001b[39m pd\u001b[38;5;241m.\u001b[39mread_csv(\u001b[38;5;124m\"\u001b[39m\u001b[38;5;124mcricket_data_2025.csv\u001b[39m\u001b[38;5;124m\"\u001b[39m)\n\u001b[0;32m      2\u001b[0m df\u001b[38;5;241m.\u001b[39mhead(\u001b[38;5;241m3\u001b[39m)\n",
      "\u001b[1;31mNameError\u001b[0m: name 'pd' is not defined"
     ]
    }
   ],
   "source": [
    "df = pd.read_csv(\"cricket_data_2025.csv\")\n",
    "df.head(3)"
   ]
  },
  {
   "cell_type": "code",
   "execution_count": null,
   "metadata": {},
   "outputs": [
    {
     "data": {
      "text/plain": [
       "(1008, 25)"
      ]
     },
     "execution_count": 6,
     "metadata": {},
     "output_type": "execute_result"
    }
   ],
   "source": [
    "df.shape"
   ]
  },
  {
   "cell_type": "code",
   "execution_count": null,
   "metadata": {},
   "outputs": [
    {
     "data": {
      "text/plain": [
       "Year                   51\n",
       "Player_Name             0\n",
       "Matches_Batted          0\n",
       "Not_Outs                0\n",
       "Runs_Scored             0\n",
       "Highest_Score           0\n",
       "Batting_Average         0\n",
       "Balls_Faced             0\n",
       "Batting_Strike_Rate     0\n",
       "Centuries               0\n",
       "Half_Centuries          0\n",
       "Fours                   0\n",
       "Sixes                   0\n",
       "Catches_Taken           0\n",
       "Stumpings               0\n",
       "Matches_Bowled          0\n",
       "Balls_Bowled            0\n",
       "Runs_Conceded           0\n",
       "Wickets_Taken           0\n",
       "Best_Bowling_Match      0\n",
       "Bowling_Average         0\n",
       "Economy_Rate            0\n",
       "Bowling_Strike_Rate     0\n",
       "Four_Wicket_Hauls       0\n",
       "Five_Wicket_Hauls       0\n",
       "dtype: int64"
      ]
     },
     "execution_count": 8,
     "metadata": {},
     "output_type": "execute_result"
    }
   ],
   "source": [
    "df.isnull().sum()"
   ]
  },
  {
   "cell_type": "code",
   "execution_count": null,
   "metadata": {},
   "outputs": [
    {
     "data": {
      "text/html": [
       "<div>\n",
       "<style scoped>\n",
       "    .dataframe tbody tr th:only-of-type {\n",
       "        vertical-align: middle;\n",
       "    }\n",
       "\n",
       "    .dataframe tbody tr th {\n",
       "        vertical-align: top;\n",
       "    }\n",
       "\n",
       "    .dataframe thead th {\n",
       "        text-align: right;\n",
       "    }\n",
       "</style>\n",
       "<table border=\"1\" class=\"dataframe\">\n",
       "  <thead>\n",
       "    <tr style=\"text-align: right;\">\n",
       "      <th></th>\n",
       "      <th>Date</th>\n",
       "      <th>Month_Num</th>\n",
       "      <th>Weekday</th>\n",
       "      <th>AI_Platform</th>\n",
       "      <th>AI_Model_Version</th>\n",
       "      <th>Active_Users</th>\n",
       "      <th>New_Users</th>\n",
       "      <th>Churned_Users</th>\n",
       "      <th>Daily_Churn_Rate</th>\n",
       "      <th>Retention_Rate</th>\n",
       "      <th>...</th>\n",
       "      <th>Session_Duration_sec</th>\n",
       "      <th>Device_Type</th>\n",
       "      <th>Language</th>\n",
       "      <th>Response_Accuracy</th>\n",
       "      <th>Response_Speed_sec</th>\n",
       "      <th>Response_Time_Category</th>\n",
       "      <th>Correction_Needed</th>\n",
       "      <th>User_Return_Frequency</th>\n",
       "      <th>Customer_Support_Interactions</th>\n",
       "      <th>Region</th>\n",
       "    </tr>\n",
       "  </thead>\n",
       "  <tbody>\n",
       "    <tr>\n",
       "      <th>0</th>\n",
       "      <td>2024-09-21</td>\n",
       "      <td>9</td>\n",
       "      <td>Saturday</td>\n",
       "      <td>ChatGPT</td>\n",
       "      <td>GPT-4-turbo</td>\n",
       "      <td>500000</td>\n",
       "      <td>25000</td>\n",
       "      <td>25000</td>\n",
       "      <td>0.05</td>\n",
       "      <td>0.95</td>\n",
       "      <td>...</td>\n",
       "      <td>40</td>\n",
       "      <td>Mobile</td>\n",
       "      <td>es</td>\n",
       "      <td>0.7842</td>\n",
       "      <td>3.30</td>\n",
       "      <td>Standard</td>\n",
       "      <td>0</td>\n",
       "      <td>6</td>\n",
       "      <td>2</td>\n",
       "      <td>Antarctica (the territory South of 60 deg S)</td>\n",
       "    </tr>\n",
       "    <tr>\n",
       "      <th>1</th>\n",
       "      <td>2024-09-21</td>\n",
       "      <td>9</td>\n",
       "      <td>Saturday</td>\n",
       "      <td>ChatGPT</td>\n",
       "      <td>GPT-4-turbo</td>\n",
       "      <td>500000</td>\n",
       "      <td>25000</td>\n",
       "      <td>25000</td>\n",
       "      <td>0.05</td>\n",
       "      <td>0.95</td>\n",
       "      <td>...</td>\n",
       "      <td>24</td>\n",
       "      <td>Laptop/Desktop</td>\n",
       "      <td>zh</td>\n",
       "      <td>0.8194</td>\n",
       "      <td>3.28</td>\n",
       "      <td>Standard</td>\n",
       "      <td>1</td>\n",
       "      <td>2</td>\n",
       "      <td>2</td>\n",
       "      <td>Ukraine</td>\n",
       "    </tr>\n",
       "    <tr>\n",
       "      <th>2</th>\n",
       "      <td>2024-09-21</td>\n",
       "      <td>9</td>\n",
       "      <td>Saturday</td>\n",
       "      <td>ChatGPT</td>\n",
       "      <td>GPT-4-turbo</td>\n",
       "      <td>500000</td>\n",
       "      <td>25000</td>\n",
       "      <td>25000</td>\n",
       "      <td>0.05</td>\n",
       "      <td>0.95</td>\n",
       "      <td>...</td>\n",
       "      <td>34</td>\n",
       "      <td>Mobile</td>\n",
       "      <td>en</td>\n",
       "      <td>0.8090</td>\n",
       "      <td>3.07</td>\n",
       "      <td>Standard</td>\n",
       "      <td>0</td>\n",
       "      <td>2</td>\n",
       "      <td>0</td>\n",
       "      <td>Grenada</td>\n",
       "    </tr>\n",
       "    <tr>\n",
       "      <th>3</th>\n",
       "      <td>2024-09-21</td>\n",
       "      <td>9</td>\n",
       "      <td>Saturday</td>\n",
       "      <td>ChatGPT</td>\n",
       "      <td>GPT-4-turbo</td>\n",
       "      <td>500000</td>\n",
       "      <td>25000</td>\n",
       "      <td>25000</td>\n",
       "      <td>0.05</td>\n",
       "      <td>0.95</td>\n",
       "      <td>...</td>\n",
       "      <td>18</td>\n",
       "      <td>Mobile</td>\n",
       "      <td>fr</td>\n",
       "      <td>0.8233</td>\n",
       "      <td>3.06</td>\n",
       "      <td>Standard</td>\n",
       "      <td>0</td>\n",
       "      <td>9</td>\n",
       "      <td>0</td>\n",
       "      <td>Guyana</td>\n",
       "    </tr>\n",
       "    <tr>\n",
       "      <th>4</th>\n",
       "      <td>2024-05-16</td>\n",
       "      <td>5</td>\n",
       "      <td>Thursday</td>\n",
       "      <td>DeepSeek</td>\n",
       "      <td>DeepSeek-Chat 1.5</td>\n",
       "      <td>1700000</td>\n",
       "      <td>170000</td>\n",
       "      <td>34000</td>\n",
       "      <td>0.02</td>\n",
       "      <td>0.95</td>\n",
       "      <td>...</td>\n",
       "      <td>10</td>\n",
       "      <td>Mobile</td>\n",
       "      <td>de</td>\n",
       "      <td>0.9366</td>\n",
       "      <td>1.48</td>\n",
       "      <td>Fast</td>\n",
       "      <td>0</td>\n",
       "      <td>9</td>\n",
       "      <td>3</td>\n",
       "      <td>India</td>\n",
       "    </tr>\n",
       "  </tbody>\n",
       "</table>\n",
       "<p>5 rows × 28 columns</p>\n",
       "</div>"
      ],
      "text/plain": [
       "         Date  Month_Num   Weekday AI_Platform   AI_Model_Version  \\\n",
       "0  2024-09-21          9  Saturday     ChatGPT        GPT-4-turbo   \n",
       "1  2024-09-21          9  Saturday     ChatGPT        GPT-4-turbo   \n",
       "2  2024-09-21          9  Saturday     ChatGPT        GPT-4-turbo   \n",
       "3  2024-09-21          9  Saturday     ChatGPT        GPT-4-turbo   \n",
       "4  2024-05-16          5  Thursday    DeepSeek  DeepSeek-Chat 1.5   \n",
       "\n",
       "   Active_Users  New_Users  Churned_Users  Daily_Churn_Rate  Retention_Rate  \\\n",
       "0        500000      25000          25000              0.05            0.95   \n",
       "1        500000      25000          25000              0.05            0.95   \n",
       "2        500000      25000          25000              0.05            0.95   \n",
       "3        500000      25000          25000              0.05            0.95   \n",
       "4       1700000     170000          34000              0.02            0.95   \n",
       "\n",
       "   ... Session_Duration_sec     Device_Type Language  Response_Accuracy  \\\n",
       "0  ...                   40          Mobile       es             0.7842   \n",
       "1  ...                   24  Laptop/Desktop       zh             0.8194   \n",
       "2  ...                   34          Mobile       en             0.8090   \n",
       "3  ...                   18          Mobile       fr             0.8233   \n",
       "4  ...                   10          Mobile       de             0.9366   \n",
       "\n",
       "   Response_Speed_sec Response_Time_Category  Correction_Needed  \\\n",
       "0                3.30               Standard                  0   \n",
       "1                3.28               Standard                  1   \n",
       "2                3.07               Standard                  0   \n",
       "3                3.06               Standard                  0   \n",
       "4                1.48                   Fast                  0   \n",
       "\n",
       "   User_Return_Frequency  Customer_Support_Interactions  \\\n",
       "0                      6                              2   \n",
       "1                      2                              2   \n",
       "2                      2                              0   \n",
       "3                      9                              0   \n",
       "4                      9                              3   \n",
       "\n",
       "                                         Region  \n",
       "0  Antarctica (the territory South of 60 deg S)  \n",
       "1                                       Ukraine  \n",
       "2                                       Grenada  \n",
       "3                                        Guyana  \n",
       "4                                         India  \n",
       "\n",
       "[5 rows x 28 columns]"
      ]
     },
     "execution_count": 9,
     "metadata": {},
     "output_type": "execute_result"
    }
   ],
   "source": [
    "df1 = pd.read_csv(\"deepseek_vs_chatgpt.csv\")\n",
    "df1.head(5)"
   ]
  },
  {
   "cell_type": "code",
   "execution_count": null,
   "metadata": {},
   "outputs": [
    {
     "data": {
      "text/plain": [
       "Date                               0\n",
       "Month_Num                          0\n",
       "Weekday                            0\n",
       "AI_Platform                        0\n",
       "AI_Model_Version                   0\n",
       "Active_Users                       0\n",
       "New_Users                          0\n",
       "Churned_Users                      0\n",
       "Daily_Churn_Rate                   0\n",
       "Retention_Rate                     0\n",
       "User_ID                            0\n",
       "Query_Type                         0\n",
       "Input_Text                         0\n",
       "Input_Text_Length                  0\n",
       "Response_Tokens                    0\n",
       "Topic_Category                     0\n",
       "User_Rating                        0\n",
       "User_Experience_Score              0\n",
       "Session_Duration_sec               0\n",
       "Device_Type                        0\n",
       "Language                           0\n",
       "Response_Accuracy                379\n",
       "Response_Speed_sec                 0\n",
       "Response_Time_Category             0\n",
       "Correction_Needed                  0\n",
       "User_Return_Frequency              0\n",
       "Customer_Support_Interactions      0\n",
       "Region                             0\n",
       "dtype: int64"
      ]
     },
     "execution_count": 10,
     "metadata": {},
     "output_type": "execute_result"
    }
   ],
   "source": [
    "df1.isnull().sum()"
   ]
  },
  {
   "cell_type": "code",
   "execution_count": null,
   "metadata": {},
   "outputs": [
    {
     "data": {
      "image/png": "[encoded data removed]",
      "text/plain": [
       "<Figure size 640x480 with 2 Axes>"
      ]
     },
     "metadata": {},
     "output_type": "display_data"
    }
   ],
   "source": [
    "sns.heatmap(df1.isnull())\n",
    "plt.show()"
   ]
  },
  {
   "cell_type": "code",
   "execution_count": null,
   "metadata": {},
   "outputs": [
    {
     "ename": "NameError",
     "evalue": "name 'df1' is not defined",
     "output_type": "error",
     "traceback": [
      "\u001b[1;31m---------------------------------------------------------------------------\u001b[0m",
      "\u001b[1;31mNameError\u001b[0m                                 Traceback (most recent call last)",
      "Cell \u001b[1;32mIn[2], line 1\u001b[0m\n\u001b[1;32m----> 1\u001b[0m df1[\u001b[38;5;124m\"\u001b[39m\u001b[38;5;124mResponse_Accuracy\u001b[39m\u001b[38;5;124m\"\u001b[39m]\u001b[38;5;241m.\u001b[39mremove()\n",
      "\u001b[1;31mNameError\u001b[0m: name 'df1' is not defined"
     ]
    }
   ],
   "source": [
    "df1[\"Response_Accuracy\"]"
   ]
  },
  {
   "cell_type": "code",
   "execution_count": null,
   "metadata": {},
   "outputs": [],
   "source": [
    "import pandas as pd \n",
    "import numpy as np\n",
    "import matplotlib.pyplot as plt\n",
    "import seaborn as sns\n",
    "tips = sns.load_dataset('tips')"
   ]
  },
  {
   "cell_type": "code",
   "execution_count": null,
   "metadata": {},
   "outputs": [
    {
     "name": "stderr",
     "output_type": "stream",
     "text": [
      "C:\\Users\\DELL\\AppData\\Local\\Temp\\ipykernel_15280\\29377604.py:2: SettingWithCopyWarning: \n",
      "A value is trying to be set on a copy of a slice from a DataFrame\n",
      "\n",
      "See the caveats in the documentation: https://pandas.pydata.org/pandas-docs/stable/user_guide/indexing.html#returning-a-view-versus-a-copy\n",
      "  size.loc[:15] =  np.nan\n"
     ]
    },
    {
     "data": {
      "text/plain": [
       "0     NaN\n",
       "1     NaN\n",
       "2     NaN\n",
       "3     NaN\n",
       "4     NaN\n",
       "5     NaN\n",
       "6     NaN\n",
       "7     NaN\n",
       "8     NaN\n",
       "9     NaN\n",
       "10    NaN\n",
       "11    NaN\n",
       "12    NaN\n",
       "13    NaN\n",
       "14    NaN\n",
       "15    NaN\n",
       "16    3.0\n",
       "17    3.0\n",
       "18    3.0\n",
       "19    3.0\n",
       "Name: size, dtype: float64"
      ]
     },
     "execution_count": 3,
     "metadata": {},
     "output_type": "execute_result"
    }
   ],
   "source": [
    "size = tips[\"size\"]\n",
    "size.loc[:15] =  np.nan\n",
    "size.head(20)"
   ]
  },
  {
   "cell_type": "code",
   "execution_count": null,
   "metadata": {},
   "outputs": [
    {
     "data": {
      "text/plain": [
       "(244,)"
      ]
     },
     "execution_count": 4,
     "metadata": {},
     "output_type": "execute_result"
    }
   ],
   "source": [
    "size.shape\n"
   ]
  },
  {
   "cell_type": "code",
   "execution_count": null,
   "metadata": {},
   "outputs": [
    {
     "data": {
      "text/plain": [
       "16"
      ]
     },
     "execution_count": 5,
     "metadata": {},
     "output_type": "execute_result"
    }
   ],
   "source": [
    "size.isnull().sum()"
   ]
  },
  {
   "cell_type": "code",
   "execution_count": null,
   "metadata": {},
   "outputs": [
    {
     "name": "stdout",
     "output_type": "stream",
     "text": [
      "3\n"
     ]
    }
   ],
   "source": [
    "mean= size.mean()\n",
    "mean = round(mean)\n",
    "print(mean)\n"
   ]
  },
  {
   "cell_type": "code",
   "execution_count": null,
   "metadata": {},
   "outputs": [
    {
     "data": {
      "text/plain": [
       "0     3.0\n",
       "1     3.0\n",
       "2     3.0\n",
       "3     3.0\n",
       "4     3.0\n",
       "5     3.0\n",
       "6     3.0\n",
       "7     3.0\n",
       "8     3.0\n",
       "9     3.0\n",
       "10    3.0\n",
       "11    3.0\n",
       "12    3.0\n",
       "13    3.0\n",
       "14    3.0\n",
       "15    3.0\n",
       "16    3.0\n",
       "17    3.0\n",
       "18    3.0\n",
       "19    3.0\n",
       "Name: size, dtype: float64"
      ]
     },
     "execution_count": 7,
     "metadata": {},
     "output_type": "execute_result"
    }
   ],
   "source": [
    "size.fillna(mean, inplace=True)\n",
    "size.head(20)"
   ]
  },
  {
   "cell_type": "code",
   "execution_count": null,
   "metadata": {},
   "outputs": [
    {
     "data": {
      "image/png": "[encoded data removed]",
      "text/plain": [
       "<Figure size 640x480 with 6 Axes>"
      ]
     },
     "metadata": {},
     "output_type": "display_data"
    }
   ],
   "source": [
    "size.hist(size)\n",
    "plt.show()"
   ]
  },
  {
   "cell_type": "code",
   "execution_count": null,
   "metadata": {},
   "outputs": [
    {
     "name": "stdout",
     "output_type": "stream",
     "text": [
      "-0.1974349065787404\n"
     ]
    }
   ],
   "source": [
    "min_val = size.mean() - (3 * size.std())\n",
    "print(min_val)\n"
   ]
  },
  {
   "cell_type": "code",
   "execution_count": null,
   "metadata": {},
   "outputs": [
    {
     "name": "stdout",
     "output_type": "stream",
     "text": [
      "5.369566054119724\n"
     ]
    }
   ],
   "source": [
    "max_val = size.mean() + (3 * size.std())\n",
    "print(max_val)\n"
   ]
  },
  {
   "cell_type": "code",
   "execution_count": null,
   "metadata": {},
   "outputs": [
    {
     "data": {
      "text/plain": [
       "4"
      ]
     },
     "execution_count": 11,
     "metadata": {},
     "output_type": "execute_result"
    }
   ],
   "source": [
    "outliers = size[size >  max_val]\n",
    "outliers.count()\n"
   ]
  },
  {
   "cell_type": "code",
   "execution_count": null,
   "metadata": {},
   "outputs": [
    {
     "name": "stdout",
     "output_type": "stream",
     "text": [
      "125    6.0\n",
      "141    6.0\n",
      "143    6.0\n",
      "156    6.0\n",
      "Name: size, dtype: float64\n"
     ]
    }
   ],
   "source": [
    "print(outliers)"
   ]
  },
  {
   "cell_type": "code",
   "execution_count": null,
   "metadata": {},
   "outputs": [
    {
     "data": {
      "text/plain": [
       "(240,)"
      ]
     },
     "execution_count": 13,
     "metadata": {},
     "output_type": "execute_result"
    }
   ],
   "source": [
    "age = size[size <= max_val]\n",
    "age.shape"
   ]
  },
  {
   "cell_type": "code",
   "execution_count": null,
   "metadata": {},
   "outputs": [],
   "source": [
    " from sklearn.preprocessing import LabelEncoder\n"
   ]
  },
  {
   "cell_type": "code",
   "execution_count": null,
   "metadata": {},
   "outputs": [],
   "source": [
    "enc = LabelEncoder()\n",
    "tips[\"sex\"] = enc.fit_transform(tips['sex'].astype('str'))\n",
    "tips[\"smoker\"] = enc.fit_transform(tips['smoker'].astype('str'))\n",
    "tips[\"day\"] = enc.fit_transform(tips['day'].astype('str'))\n",
    "tips[\"time\"] = enc.fit_transform(tips['time'].astype('str'))\n",
    "\n",
    "\n"
   ]
  },
  {
   "cell_type": "code",
   "execution_count": null,
   "metadata": {},
   "outputs": [
    {
     "data": {
      "text/html": [
       "<div>\n",
       "<style scoped>\n",
       "    .dataframe tbody tr th:only-of-type {\n",
       "        vertical-align: middle;\n",
       "    }\n",
       "\n",
       "    .dataframe tbody tr th {\n",
       "        vertical-align: top;\n",
       "    }\n",
       "\n",
       "    .dataframe thead th {\n",
       "        text-align: right;\n",
       "    }\n",
       "</style>\n",
       "<table border=\"1\" class=\"dataframe\">\n",
       "  <thead>\n",
       "    <tr style=\"text-align: right;\">\n",
       "      <th></th>\n",
       "      <th>total_bill</th>\n",
       "      <th>tip</th>\n",
       "      <th>sex</th>\n",
       "      <th>smoker</th>\n",
       "      <th>day</th>\n",
       "      <th>time</th>\n",
       "      <th>size</th>\n",
       "    </tr>\n",
       "  </thead>\n",
       "  <tbody>\n",
       "    <tr>\n",
       "      <th>0</th>\n",
       "      <td>16.99</td>\n",
       "      <td>1.01</td>\n",
       "      <td>0</td>\n",
       "      <td>0</td>\n",
       "      <td>2</td>\n",
       "      <td>0</td>\n",
       "      <td>3.0</td>\n",
       "    </tr>\n",
       "    <tr>\n",
       "      <th>1</th>\n",
       "      <td>10.34</td>\n",
       "      <td>1.66</td>\n",
       "      <td>1</td>\n",
       "      <td>0</td>\n",
       "      <td>2</td>\n",
       "      <td>0</td>\n",
       "      <td>3.0</td>\n",
       "    </tr>\n",
       "    <tr>\n",
       "      <th>2</th>\n",
       "      <td>21.01</td>\n",
       "      <td>3.50</td>\n",
       "      <td>1</td>\n",
       "      <td>0</td>\n",
       "      <td>2</td>\n",
       "      <td>0</td>\n",
       "      <td>3.0</td>\n",
       "    </tr>\n",
       "    <tr>\n",
       "      <th>3</th>\n",
       "      <td>23.68</td>\n",
       "      <td>3.31</td>\n",
       "      <td>1</td>\n",
       "      <td>0</td>\n",
       "      <td>2</td>\n",
       "      <td>0</td>\n",
       "      <td>3.0</td>\n",
       "    </tr>\n",
       "    <tr>\n",
       "      <th>4</th>\n",
       "      <td>24.59</td>\n",
       "      <td>3.61</td>\n",
       "      <td>0</td>\n",
       "      <td>0</td>\n",
       "      <td>2</td>\n",
       "      <td>0</td>\n",
       "      <td>3.0</td>\n",
       "    </tr>\n",
       "  </tbody>\n",
       "</table>\n",
       "</div>"
      ],
      "text/plain": [
       "   total_bill   tip  sex  smoker  day  time  size\n",
       "0       16.99  1.01    0       0    2     0   3.0\n",
       "1       10.34  1.66    1       0    2     0   3.0\n",
       "2       21.01  3.50    1       0    2     0   3.0\n",
       "3       23.68  3.31    1       0    2     0   3.0\n",
       "4       24.59  3.61    0       0    2     0   3.0"
      ]
     },
     "execution_count": 17,
     "metadata": {},
     "output_type": "execute_result"
    }
   ],
   "source": [
    "tips.head()"
   ]
  },
  {
   "cell_type": "code",
   "execution_count": null,
   "metadata": {},
   "outputs": [
    {
     "data": {
      "text/html": [
       "<div>\n",
       "<style scoped>\n",
       "    .dataframe tbody tr th:only-of-type {\n",
       "        vertical-align: middle;\n",
       "    }\n",
       "\n",
       "    .dataframe tbody tr th {\n",
       "        vertical-align: top;\n",
       "    }\n",
       "\n",
       "    .dataframe thead th {\n",
       "        text-align: right;\n",
       "    }\n",
       "</style>\n",
       "<table border=\"1\" class=\"dataframe\">\n",
       "  <thead>\n",
       "    <tr style=\"text-align: right;\">\n",
       "      <th></th>\n",
       "      <th>total_bill</th>\n",
       "      <th>tip</th>\n",
       "      <th>sex</th>\n",
       "      <th>smoker</th>\n",
       "      <th>day</th>\n",
       "      <th>time</th>\n",
       "      <th>size</th>\n",
       "    </tr>\n",
       "  </thead>\n",
       "  <tbody>\n",
       "    <tr>\n",
       "      <th>0</th>\n",
       "      <td>0.291579</td>\n",
       "      <td>0.001111</td>\n",
       "      <td>0.0</td>\n",
       "      <td>0.0</td>\n",
       "      <td>0.666667</td>\n",
       "      <td>0.0</td>\n",
       "      <td>0.4</td>\n",
       "    </tr>\n",
       "    <tr>\n",
       "      <th>1</th>\n",
       "      <td>0.152283</td>\n",
       "      <td>0.073333</td>\n",
       "      <td>1.0</td>\n",
       "      <td>0.0</td>\n",
       "      <td>0.666667</td>\n",
       "      <td>0.0</td>\n",
       "      <td>0.4</td>\n",
       "    </tr>\n",
       "    <tr>\n",
       "      <th>2</th>\n",
       "      <td>0.375786</td>\n",
       "      <td>0.277778</td>\n",
       "      <td>1.0</td>\n",
       "      <td>0.0</td>\n",
       "      <td>0.666667</td>\n",
       "      <td>0.0</td>\n",
       "      <td>0.4</td>\n",
       "    </tr>\n",
       "    <tr>\n",
       "      <th>3</th>\n",
       "      <td>0.431713</td>\n",
       "      <td>0.256667</td>\n",
       "      <td>1.0</td>\n",
       "      <td>0.0</td>\n",
       "      <td>0.666667</td>\n",
       "      <td>0.0</td>\n",
       "      <td>0.4</td>\n",
       "    </tr>\n",
       "    <tr>\n",
       "      <th>4</th>\n",
       "      <td>0.450775</td>\n",
       "      <td>0.290000</td>\n",
       "      <td>0.0</td>\n",
       "      <td>0.0</td>\n",
       "      <td>0.666667</td>\n",
       "      <td>0.0</td>\n",
       "      <td>0.4</td>\n",
       "    </tr>\n",
       "    <tr>\n",
       "      <th>5</th>\n",
       "      <td>0.465438</td>\n",
       "      <td>0.412222</td>\n",
       "      <td>1.0</td>\n",
       "      <td>0.0</td>\n",
       "      <td>0.666667</td>\n",
       "      <td>0.0</td>\n",
       "      <td>0.4</td>\n",
       "    </tr>\n",
       "    <tr>\n",
       "      <th>6</th>\n",
       "      <td>0.119397</td>\n",
       "      <td>0.111111</td>\n",
       "      <td>1.0</td>\n",
       "      <td>0.0</td>\n",
       "      <td>0.666667</td>\n",
       "      <td>0.0</td>\n",
       "      <td>0.4</td>\n",
       "    </tr>\n",
       "    <tr>\n",
       "      <th>7</th>\n",
       "      <td>0.498743</td>\n",
       "      <td>0.235556</td>\n",
       "      <td>1.0</td>\n",
       "      <td>0.0</td>\n",
       "      <td>0.666667</td>\n",
       "      <td>0.0</td>\n",
       "      <td>0.4</td>\n",
       "    </tr>\n",
       "    <tr>\n",
       "      <th>8</th>\n",
       "      <td>0.250733</td>\n",
       "      <td>0.106667</td>\n",
       "      <td>1.0</td>\n",
       "      <td>0.0</td>\n",
       "      <td>0.666667</td>\n",
       "      <td>0.0</td>\n",
       "      <td>0.4</td>\n",
       "    </tr>\n",
       "    <tr>\n",
       "      <th>9</th>\n",
       "      <td>0.245287</td>\n",
       "      <td>0.247778</td>\n",
       "      <td>1.0</td>\n",
       "      <td>0.0</td>\n",
       "      <td>0.666667</td>\n",
       "      <td>0.0</td>\n",
       "      <td>0.4</td>\n",
       "    </tr>\n",
       "  </tbody>\n",
       "</table>\n",
       "</div>"
      ],
      "text/plain": [
       "   total_bill       tip  sex  smoker       day  time  size\n",
       "0    0.291579  0.001111  0.0     0.0  0.666667   0.0   0.4\n",
       "1    0.152283  0.073333  1.0     0.0  0.666667   0.0   0.4\n",
       "2    0.375786  0.277778  1.0     0.0  0.666667   0.0   0.4\n",
       "3    0.431713  0.256667  1.0     0.0  0.666667   0.0   0.4\n",
       "4    0.450775  0.290000  0.0     0.0  0.666667   0.0   0.4\n",
       "5    0.465438  0.412222  1.0     0.0  0.666667   0.0   0.4\n",
       "6    0.119397  0.111111  1.0     0.0  0.666667   0.0   0.4\n",
       "7    0.498743  0.235556  1.0     0.0  0.666667   0.0   0.4\n",
       "8    0.250733  0.106667  1.0     0.0  0.666667   0.0   0.4\n",
       "9    0.245287  0.247778  1.0     0.0  0.666667   0.0   0.4"
      ]
     },
     "execution_count": 18,
     "metadata": {},
     "output_type": "execute_result"
    }
   ],
   "source": [
    "tips_normalized = (tips - tips.min())/ (tips.max()-tips.min())\n",
    "tips_normalized.head(10)"
   ]
  },
  {
   "cell_type": "code",
   "execution_count": null,
   "metadata": {},
   "outputs": [
    {
     "data": {
      "text/html": [
       "<div>\n",
       "<style scoped>\n",
       "    .dataframe tbody tr th:only-of-type {\n",
       "        vertical-align: middle;\n",
       "    }\n",
       "\n",
       "    .dataframe tbody tr th {\n",
       "        vertical-align: top;\n",
       "    }\n",
       "\n",
       "    .dataframe thead th {\n",
       "        text-align: right;\n",
       "    }\n",
       "</style>\n",
       "<table border=\"1\" class=\"dataframe\">\n",
       "  <thead>\n",
       "    <tr style=\"text-align: right;\">\n",
       "      <th></th>\n",
       "      <th>total_bill</th>\n",
       "      <th>tip</th>\n",
       "      <th>sex</th>\n",
       "      <th>smoker</th>\n",
       "      <th>day</th>\n",
       "      <th>time</th>\n",
       "      <th>size</th>\n",
       "    </tr>\n",
       "  </thead>\n",
       "  <tbody>\n",
       "    <tr>\n",
       "      <th>0</th>\n",
       "      <td>-0.314066</td>\n",
       "      <td>-1.436993</td>\n",
       "      <td>-1.340598</td>\n",
       "      <td>-0.783179</td>\n",
       "      <td>0.278585</td>\n",
       "      <td>-0.620307</td>\n",
       "      <td>0.44613</td>\n",
       "    </tr>\n",
       "    <tr>\n",
       "      <th>1</th>\n",
       "      <td>-1.061054</td>\n",
       "      <td>-0.967217</td>\n",
       "      <td>0.742879</td>\n",
       "      <td>-0.783179</td>\n",
       "      <td>0.278585</td>\n",
       "      <td>-0.620307</td>\n",
       "      <td>0.44613</td>\n",
       "    </tr>\n",
       "    <tr>\n",
       "      <th>2</th>\n",
       "      <td>0.137497</td>\n",
       "      <td>0.362610</td>\n",
       "      <td>0.742879</td>\n",
       "      <td>-0.783179</td>\n",
       "      <td>0.278585</td>\n",
       "      <td>-0.620307</td>\n",
       "      <td>0.44613</td>\n",
       "    </tr>\n",
       "    <tr>\n",
       "      <th>3</th>\n",
       "      <td>0.437416</td>\n",
       "      <td>0.225291</td>\n",
       "      <td>0.742879</td>\n",
       "      <td>-0.783179</td>\n",
       "      <td>0.278585</td>\n",
       "      <td>-0.620307</td>\n",
       "      <td>0.44613</td>\n",
       "    </tr>\n",
       "    <tr>\n",
       "      <th>4</th>\n",
       "      <td>0.539635</td>\n",
       "      <td>0.442111</td>\n",
       "      <td>-1.340598</td>\n",
       "      <td>-0.783179</td>\n",
       "      <td>0.278585</td>\n",
       "      <td>-0.620307</td>\n",
       "      <td>0.44613</td>\n",
       "    </tr>\n",
       "    <tr>\n",
       "      <th>5</th>\n",
       "      <td>0.618266</td>\n",
       "      <td>1.237116</td>\n",
       "      <td>0.742879</td>\n",
       "      <td>-0.783179</td>\n",
       "      <td>0.278585</td>\n",
       "      <td>-0.620307</td>\n",
       "      <td>0.44613</td>\n",
       "    </tr>\n",
       "    <tr>\n",
       "      <th>6</th>\n",
       "      <td>-1.237411</td>\n",
       "      <td>-0.721488</td>\n",
       "      <td>0.742879</td>\n",
       "      <td>-0.783179</td>\n",
       "      <td>0.278585</td>\n",
       "      <td>-0.620307</td>\n",
       "      <td>0.44613</td>\n",
       "    </tr>\n",
       "    <tr>\n",
       "      <th>7</th>\n",
       "      <td>0.796869</td>\n",
       "      <td>0.087972</td>\n",
       "      <td>0.742879</td>\n",
       "      <td>-0.783179</td>\n",
       "      <td>0.278585</td>\n",
       "      <td>-0.620307</td>\n",
       "      <td>0.44613</td>\n",
       "    </tr>\n",
       "    <tr>\n",
       "      <th>8</th>\n",
       "      <td>-0.533108</td>\n",
       "      <td>-0.750398</td>\n",
       "      <td>0.742879</td>\n",
       "      <td>-0.783179</td>\n",
       "      <td>0.278585</td>\n",
       "      <td>-0.620307</td>\n",
       "      <td>0.44613</td>\n",
       "    </tr>\n",
       "    <tr>\n",
       "      <th>9</th>\n",
       "      <td>-0.562313</td>\n",
       "      <td>0.167472</td>\n",
       "      <td>0.742879</td>\n",
       "      <td>-0.783179</td>\n",
       "      <td>0.278585</td>\n",
       "      <td>-0.620307</td>\n",
       "      <td>0.44613</td>\n",
       "    </tr>\n",
       "  </tbody>\n",
       "</table>\n",
       "</div>"
      ],
      "text/plain": [
       "   total_bill       tip       sex    smoker       day      time     size\n",
       "0   -0.314066 -1.436993 -1.340598 -0.783179  0.278585 -0.620307  0.44613\n",
       "1   -1.061054 -0.967217  0.742879 -0.783179  0.278585 -0.620307  0.44613\n",
       "2    0.137497  0.362610  0.742879 -0.783179  0.278585 -0.620307  0.44613\n",
       "3    0.437416  0.225291  0.742879 -0.783179  0.278585 -0.620307  0.44613\n",
       "4    0.539635  0.442111 -1.340598 -0.783179  0.278585 -0.620307  0.44613\n",
       "5    0.618266  1.237116  0.742879 -0.783179  0.278585 -0.620307  0.44613\n",
       "6   -1.237411 -0.721488  0.742879 -0.783179  0.278585 -0.620307  0.44613\n",
       "7    0.796869  0.087972  0.742879 -0.783179  0.278585 -0.620307  0.44613\n",
       "8   -0.533108 -0.750398  0.742879 -0.783179  0.278585 -0.620307  0.44613\n",
       "9   -0.562313  0.167472  0.742879 -0.783179  0.278585 -0.620307  0.44613"
      ]
     },
     "execution_count": 20,
     "metadata": {},
     "output_type": "execute_result"
    }
   ],
   "source": [
    "tips_stdandarized = (tips - tips.mean())/tips.std()\n",
    "tips_stdandarized.head(10)"
   ]
  },
  {
   "cell_type": "code",
   "execution_count": null,
   "metadata": {},
   "outputs": [],
   "source": []
  }
 ],
 "metadata": {
  "kernelspec": {
   "display_name": "base",
   "language": "python",
   "name": "python3"
  },
  "language_info": {
   "codemirror_mode": {
    "name": "ipython",
    "version": 3
   },
   "file_extension": ".py",
   "mimetype": "text/x-python",
   "name": "python",
   "nbconvert_exporter": "python",
   "pygments_lexer": "ipython3",
   "version": "3.12.7"
  }
 },
 "nbformat": 4,
 "nbformat_minor": 2
}
