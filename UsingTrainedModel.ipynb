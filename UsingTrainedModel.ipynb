{
 "cells": [
  {
   "cell_type": "code",
   "execution_count": 1,
   "id": "f77fe9fc",
   "metadata": {},
   "outputs": [],
   "source": [
    "import pickle\n",
    "import os \n"
   ]
  },
  {
   "cell_type": "code",
   "execution_count": 4,
   "id": "67c801d5",
   "metadata": {},
   "outputs": [],
   "source": [
    "class NN_model(object):\n",
    "    def ___init__(self):\n",
    "        path = os.getcwd() + \"/model_exercise.pkl\"\n",
    "        file = open(path,\"rb\")\n",
    "        self.model = pickle.load(file)\n",
    "\n"
   ]
  },
  {
   "cell_type": "code",
   "execution_count": 5,
   "id": "9758637b",
   "metadata": {},
   "outputs": [],
   "source": [
    "def predict(self,season,age,childish,trauma,surgical,fevers,alcohol,smoking,sitting):\n",
    "    x =[[season,age, childish,trauma,surgical,fevers,alcohol,smoking,sitting]]\n",
    "    return self.model.predict()"
   ]
  },
  {
   "cell_type": "markdown",
   "id": "e906b154",
   "metadata": {},
   "source": [
    "save the code as a python file and name it exerciseclass.py . The name of this file will be used to load the class into \n",
    "the jupyter Notebook for the following steps.\n",
    "\n",
    "Now , let's codethe frontend solution of the program , which includes creating a form where users can input data and obtain a prediction ."
   ]
  },
  {
   "cell_type": "code",
   "execution_count": null,
   "id": "ecd8477e",
   "metadata": {},
   "outputs": [],
   "source": []
  }
 ],
 "metadata": {
  "kernelspec": {
   "display_name": "base",
   "language": "python",
   "name": "python3"
  },
  "language_info": {
   "codemirror_mode": {
    "name": "ipython",
    "version": 3
   },
   "file_extension": ".py",
   "mimetype": "text/x-python",
   "name": "python",
   "nbconvert_exporter": "python",
   "pygments_lexer": "ipython3",
   "version": "3.12.7"
  }
 },
 "nbformat": 4,
 "nbformat_minor": 5
}
