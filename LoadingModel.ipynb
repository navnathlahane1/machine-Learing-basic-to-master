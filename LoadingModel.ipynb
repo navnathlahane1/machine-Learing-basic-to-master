{
 "cells": [
  {
   "cell_type": "code",
   "execution_count": 1,
   "id": "239937ba",
   "metadata": {},
   "outputs": [],
   "source": [
    "import pickle\n",
    "import os\n",
    "from sklearn.neural_network import MLPClassifier"
   ]
  },
  {
   "cell_type": "code",
   "execution_count": 4,
   "id": "a70299fe",
   "metadata": {},
   "outputs": [],
   "source": [
    "path = os.getcwd() + \"/model_exercise.pkl\"\n",
    "file = open(path,\"rb\")\n",
    "model = pickle.load(file)"
   ]
  },
  {
   "cell_type": "code",
   "execution_count": 5,
   "id": "e8e71bf2",
   "metadata": {},
   "outputs": [
    {
     "name": "stdout",
     "output_type": "stream",
     "text": [
      "['O']\n"
     ]
    }
   ],
   "source": [
    "pred = model.predict([[-0.33,0.67,1,1,0,0,0.8,-1,0.5]])\n",
    "print(pred)"
   ]
  },
  {
   "cell_type": "code",
   "execution_count": null,
   "id": "2e0a63f5",
   "metadata": {},
   "outputs": [],
   "source": []
  }
 ],
 "metadata": {
  "kernelspec": {
   "display_name": "base",
   "language": "python",
   "name": "python3"
  },
  "language_info": {
   "codemirror_mode": {
    "name": "ipython",
    "version": 3
   },
   "file_extension": ".py",
   "mimetype": "text/x-python",
   "name": "python",
   "nbconvert_exporter": "python",
   "pygments_lexer": "ipython3",
   "version": "3.12.7"
  }
 },
 "nbformat": 4,
 "nbformat_minor": 5
}
