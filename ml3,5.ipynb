{
 "cells": [
  {
   "cell_type": "markdown",
   "metadata": {},
   "source": [
    "CALCULATING THE ERROR RATE ON DIFFERENT SETS OF DATA "
   ]
  },
  {
   "cell_type": "code",
   "execution_count": 2,
   "metadata": {},
   "outputs": [],
   "source": [
    "from sklearn.datasets import load_breast_cancer \n",
    "import pandas as pd\n",
    " \n",
    "from sklearn.model_selection import train_test_split\n",
    "import numpy as np \n",
    "from sklearn import tree\n",
    "from sklearn.metrics import recall_score\n"
   ]
  },
  {
   "cell_type": "code",
   "execution_count": 3,
   "metadata": {},
   "outputs": [],
   "source": [
    "data = load_breast_cancer()\n",
    "x= pd.DataFrame(data.data)\n",
    "y = pd.DataFrame(data.target)\n"
   ]
  },
  {
   "cell_type": "code",
   "execution_count": 4,
   "metadata": {},
   "outputs": [],
   "source": [
    "x_new , x_test ,y_new, y_test = train_test_split(x,y, test_size=0.1, random_state=101)\n",
    "test_size = x_test.shape[0] / x_new.shape[0]\n"
   ]
  },
  {
   "cell_type": "code",
   "execution_count": 5,
   "metadata": {},
   "outputs": [],
   "source": [
    "x_train, x_dev,y_train, y_dev = train_test_split(x_new,y_new,test_size=test_size, random_state=101)"
   ]
  },
  {
   "cell_type": "code",
   "execution_count": 6,
   "metadata": {},
   "outputs": [
    {
     "name": "stdout",
     "output_type": "stream",
     "text": [
      "(455, 30) (455, 1) (57, 30) (57, 1) (57, 30) (57, 1)\n"
     ]
    }
   ],
   "source": [
    "print(x_train.shape, y_train.shape,x_dev.shape,y_dev.shape, x_test.shape, y_test.shape)"
   ]
  },
  {
   "cell_type": "code",
   "execution_count": 7,
   "metadata": {},
   "outputs": [
    {
     "name": "stdout",
     "output_type": "stream",
     "text": [
      "(50, 30) (50, 1)\n"
     ]
    }
   ],
   "source": [
    "np.random.seed(101)\n",
    "indices_train = np.random.randint(0,len(x_train),25)\n",
    "indices_dev = np.random.randint(0,len(x_dev),25)\n",
    " \n",
    "x_train_dev = pd.concat([x_train.iloc[indices_dev,:],x_dev.iloc[indices_dev,:]])\n",
    "y_train_dev = pd.concat([y_train.iloc[indices_dev,:],y_dev.iloc[indices_dev,:]])\n",
    "print(x_train_dev.shape,y_train_dev.shape)"
   ]
  },
  {
   "cell_type": "code",
   "execution_count": 8,
   "metadata": {},
   "outputs": [],
   "source": [
    "model = tree.DecisionTreeClassifier(random_state=101)\n",
    "model = model.fit(x_train,y_train)"
   ]
  },
  {
   "cell_type": "code",
   "execution_count": 9,
   "metadata": {},
   "outputs": [
    {
     "name": "stdout",
     "output_type": "stream",
     "text": [
      "0.9714285714285714\n"
     ]
    }
   ],
   "source": [
    "sets = [\"Training \",\"Train/dev\",\"Validation\",\"Testing\"]\n",
    "x_sets = [x_train,x_train_dev,x_dev, x_test]\n",
    "y_sets = [y_train,y_train_dev,y_dev, y_test]\n",
    "\n",
    "scores ={}\n",
    "for i in range(0, len(x_sets)):\n",
    "    pred = model.predict(x_sets[i])\n",
    "    score = recall_score(y_sets[i],pred)\n",
    "    scores[sets[i]] = score\n",
    "\n",
    "\n",
    "print(score)    "
   ]
  },
  {
   "cell_type": "code",
   "execution_count": null,
   "metadata": {},
   "outputs": [],
   "source": []
  }
 ],
 "metadata": {
  "kernelspec": {
   "display_name": "base",
   "language": "python",
   "name": "python3"
  },
  "language_info": {
   "codemirror_mode": {
    "name": "ipython",
    "version": 3
   },
   "file_extension": ".py",
   "mimetype": "text/x-python",
   "name": "python",
   "nbconvert_exporter": "python",
   "pygments_lexer": "ipython3",
   "version": "3.12.7"
  }
 },
 "nbformat": 4,
 "nbformat_minor": 2
}
